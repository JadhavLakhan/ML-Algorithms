{
 "cells": [
  {
   "cell_type": "code",
   "execution_count": 2,
   "id": "5be0f6b4",
   "metadata": {},
   "outputs": [],
   "source": [
    "import pandas as pd\n",
    "import statsmodels.api as sm\n",
    "import numpy as np\n",
    "import matplotlib.pyplot as plt\n",
    "from sklearn.model_selection import train_test_split\n",
    "from sklearn.metrics import mean_squared_error"
   ]
  },
  {
   "cell_type": "code",
   "execution_count": 3,
   "id": "729b5a07",
   "metadata": {},
   "outputs": [],
   "source": [
    "df=pd.read_csv(r\"C:\\Users\\Admin\\MSc Applied Statistics SPU\\csv file\\python - Copy.csv\")"
   ]
  },
  {
   "cell_type": "code",
   "execution_count": 4,
   "id": "764d55fe",
   "metadata": {},
   "outputs": [
    {
     "data": {
      "text/html": [
       "<div>\n",
       "<style scoped>\n",
       "    .dataframe tbody tr th:only-of-type {\n",
       "        vertical-align: middle;\n",
       "    }\n",
       "\n",
       "    .dataframe tbody tr th {\n",
       "        vertical-align: top;\n",
       "    }\n",
       "\n",
       "    .dataframe thead th {\n",
       "        text-align: right;\n",
       "    }\n",
       "</style>\n",
       "<table border=\"1\" class=\"dataframe\">\n",
       "  <thead>\n",
       "    <tr style=\"text-align: right;\">\n",
       "      <th></th>\n",
       "      <th>TEMP</th>\n",
       "      <th>SOAK-TIME</th>\n",
       "      <th>SOAKPCT</th>\n",
       "      <th>DIFFTIME</th>\n",
       "      <th>DIFFPCT</th>\n",
       "      <th>PITCH</th>\n",
       "    </tr>\n",
       "  </thead>\n",
       "  <tbody>\n",
       "    <tr>\n",
       "      <th>0</th>\n",
       "      <td>1650</td>\n",
       "      <td>0.58</td>\n",
       "      <td>1.10</td>\n",
       "      <td>0.25</td>\n",
       "      <td>0.90</td>\n",
       "      <td>0.013</td>\n",
       "    </tr>\n",
       "    <tr>\n",
       "      <th>1</th>\n",
       "      <td>1650</td>\n",
       "      <td>0.66</td>\n",
       "      <td>1.10</td>\n",
       "      <td>0.33</td>\n",
       "      <td>0.90</td>\n",
       "      <td>0.016</td>\n",
       "    </tr>\n",
       "    <tr>\n",
       "      <th>2</th>\n",
       "      <td>1650</td>\n",
       "      <td>0.66</td>\n",
       "      <td>1.10</td>\n",
       "      <td>0.33</td>\n",
       "      <td>0.90</td>\n",
       "      <td>0.015</td>\n",
       "    </tr>\n",
       "    <tr>\n",
       "      <th>3</th>\n",
       "      <td>1650</td>\n",
       "      <td>0.66</td>\n",
       "      <td>1.10</td>\n",
       "      <td>0.33</td>\n",
       "      <td>0.95</td>\n",
       "      <td>0.016</td>\n",
       "    </tr>\n",
       "    <tr>\n",
       "      <th>4</th>\n",
       "      <td>1600</td>\n",
       "      <td>0.66</td>\n",
       "      <td>1.15</td>\n",
       "      <td>0.33</td>\n",
       "      <td>1.00</td>\n",
       "      <td>0.015</td>\n",
       "    </tr>\n",
       "  </tbody>\n",
       "</table>\n",
       "</div>"
      ],
      "text/plain": [
       "   TEMP  SOAK-TIME  SOAKPCT  DIFFTIME  DIFFPCT  PITCH\n",
       "0  1650       0.58     1.10      0.25     0.90  0.013\n",
       "1  1650       0.66     1.10      0.33     0.90  0.016\n",
       "2  1650       0.66     1.10      0.33     0.90  0.015\n",
       "3  1650       0.66     1.10      0.33     0.95  0.016\n",
       "4  1600       0.66     1.15      0.33     1.00  0.015"
      ]
     },
     "execution_count": 4,
     "metadata": {},
     "output_type": "execute_result"
    }
   ],
   "source": [
    "df.head()"
   ]
  },
  {
   "cell_type": "code",
   "execution_count": 5,
   "id": "cd3537fe",
   "metadata": {},
   "outputs": [
    {
     "data": {
      "text/plain": [
       "(32, 6)"
      ]
     },
     "execution_count": 5,
     "metadata": {},
     "output_type": "execute_result"
    }
   ],
   "source": [
    "df.shape"
   ]
  },
  {
   "cell_type": "code",
   "execution_count": 6,
   "id": "a3f9fef9",
   "metadata": {},
   "outputs": [],
   "source": [
    "X=df.drop(columns='PITCH',axis=1)\n",
    "y=df[\"PITCH\"]"
   ]
  },
  {
   "cell_type": "markdown",
   "id": "2301eba4",
   "metadata": {},
   "source": [
    "### a) Fit a linear regression model relating the results of the pitch carbon analysis test (PITCH) to the five regressor variables."
   ]
  },
  {
   "cell_type": "code",
   "execution_count": 7,
   "id": "d4b0b2f0",
   "metadata": {},
   "outputs": [
    {
     "name": "stdout",
     "output_type": "stream",
     "text": [
      "                            OLS Regression Results                            \n",
      "==============================================================================\n",
      "Dep. Variable:                  PITCH   R-squared:                       0.822\n",
      "Model:                            OLS   Adj. R-squared:                  0.788\n",
      "Method:                 Least Squares   F-statistic:                     24.06\n",
      "Date:                Sat, 30 Nov 2024   Prob (F-statistic):           5.45e-09\n",
      "Time:                        02:43:35   Log-Likelihood:                 131.30\n",
      "No. Observations:                  32   AIC:                            -250.6\n",
      "Df Residuals:                      26   BIC:                            -241.8\n",
      "Df Model:                           5                                         \n",
      "Covariance Type:            nonrobust                                         \n",
      "==============================================================================\n",
      "                 coef    std err          t      P>|t|      [0.025      0.975]\n",
      "------------------------------------------------------------------------------\n",
      "const         -0.0369      0.144     -0.257      0.799      -0.332       0.258\n",
      "TEMP        4.877e-05   7.08e-05      0.689      0.497   -9.68e-05       0.000\n",
      "SOAK-TIME      0.0007      0.000      1.601      0.122      -0.000       0.001\n",
      "SOAKPCT       -0.0341      0.039     -0.867      0.394      -0.115       0.047\n",
      "DIFFTIME       0.0133      0.003      5.049      0.000       0.008       0.019\n",
      "DIFFPCT        0.0049      0.016      0.312      0.758      -0.027       0.037\n",
      "==============================================================================\n",
      "Omnibus:                        8.024   Durbin-Watson:                   1.759\n",
      "Prob(Omnibus):                  0.018   Jarque-Bera (JB):                7.532\n",
      "Skew:                           0.717   Prob(JB):                       0.0231\n",
      "Kurtosis:                       4.896   Cond. No.                     3.07e+05\n",
      "==============================================================================\n",
      "\n",
      "Notes:\n",
      "[1] Standard Errors assume that the covariance matrix of the errors is correctly specified.\n",
      "[2] The condition number is large, 3.07e+05. This might indicate that there are\n",
      "strong multicollinearity or other numerical problems.\n"
     ]
    }
   ],
   "source": [
    "# Add a constant to the model (for the intercept)\n",
    "X_new = sm.add_constant(X)\n",
    "\n",
    "# Fit the model\n",
    "model = sm.OLS(y, X_new).fit()\n",
    "\n",
    "# Display the summary of the model\n",
    "print(model.summary())\n"
   ]
  },
  {
   "cell_type": "markdown",
   "id": "f5b0daab",
   "metadata": {},
   "source": [
    "**b)**"
   ]
  },
  {
   "cell_type": "markdown",
   "id": "7a753f83",
   "metadata": {},
   "source": [
    "**const (Intercept): -0.0369:** The intercept is the value of PITCH when all other predictors are zero. However, its p-value (0.799) is quite high, indicating that it's not statistically significant.\n",
    "\n",
    "**TEMP (4.877e-05):** The coefficient for TEMP is small and positive, but its p-value (0.497) is quite high. This means TEMP does not significantly affect PITCH in this model.\n",
    "\n",
    "**SOAK-TIME (0.0007):** The coefficient for SOAK-TIME is positive,For every 1 unit increase in SOAK-TIME, the predicted value of PITCH increases by 0.0007 units, assuming all other variables are constant.Its p-value (0.122) is not statistically significant at the 0.05 level, indicating it's likely not a strong predictor of PITCH.\n",
    "\n",
    "**SOAKPCT (-0.0341):** This coefficient is negative,indicating that for every 1 unit increase in SOAKPCT, the predicted value of PITCH decreases by 0.0341 units, assuming all other variables are constant. Its p-value (0.394) is not significant.\n",
    "\n",
    "**DIFFTIME (0.0133):** This variable has a positive and statistically significant coefficient (p-value = 0.000). This suggests that as DIFFTIME increases, PITCH increases, and this relationship is significant.\n",
    "\n",
    "**DIFFPCT (0.0049):** The coefficient is small and positive, but its p-value (0.758) is very high, indicating it is not statistically significant.\n",
    "\n",
    "\n",
    "**R-squared: 0.822:** This means that 82.20% of the variance in the dependent variable (PITCH) is explained by the independent variables in the model. \n",
    "\n",
    "\n",
    "Given the high **F-statistic(24.06)** and low **p-value(Prob (F-statistic): 5.45e-09)**, we can conclude that there is sufficient evidence to reject the null hypothesis. This suggests that at least one of the independent variables in the model significantly contributes to predicting the dependent variable (PITCH)."
   ]
  },
  {
   "cell_type": "markdown",
   "id": "6cbb0b29",
   "metadata": {},
   "source": [
    "### (c) Estimate 𝜎^2 for the model. "
   ]
  },
  {
   "cell_type": "markdown",
   "id": "975b990e",
   "metadata": {},
   "source": [
    "The formula for the **sigma-square estimate** in linear regression is:\n",
    "\n",
    "$$ \\hat{\\sigma}^2 = \\frac{1}{n - p} \\sum_{i=1}^{n} (y_i - \\hat{y}_i)^2 $$\n",
    "\n",
    "**OR**\n",
    "\n",
    "$$ \\hat{\\sigma}^2 = \\frac{SSR}{n - p} $$\n"
   ]
  },
  {
   "cell_type": "code",
   "execution_count": 9,
   "id": "3ce17c72",
   "metadata": {},
   "outputs": [
    {
     "name": "stdout",
     "output_type": "stream",
     "text": [
      "1.9668650024217878e-05\n"
     ]
    }
   ],
   "source": [
    "n = len(df)   \n",
    "p = len(model.params) \n",
    "\n",
    "SSR=np.sum(model.resid**2)\n",
    "\n",
    "sigma_square_estimate=SSR/(n-p)\n",
    "print(sigma_square_estimate)"
   ]
  },
  {
   "cell_type": "code",
   "execution_count": null,
   "id": "e76f15c5",
   "metadata": {},
   "outputs": [],
   "source": []
  },
  {
   "cell_type": "markdown",
   "id": "78aae18a",
   "metadata": {},
   "source": [
    "### (d) Find the standard errors of the regression coefficients. "
   ]
  },
  {
   "cell_type": "code",
   "execution_count": 10,
   "id": "87967001",
   "metadata": {},
   "outputs": [
    {
     "name": "stdout",
     "output_type": "stream",
     "text": [
      "Standard errors of the regression coefficients: const        0.143666\n",
      "TEMP         0.000071\n",
      "SOAK-TIME    0.000406\n",
      "SOAKPCT      0.039315\n",
      "DIFFTIME     0.002634\n",
      "DIFFPCT      0.015719\n",
      "dtype: float64\n"
     ]
    }
   ],
   "source": [
    "#model.bse contains the standard errors of those estimated coefficients.\n",
    "print(\"Standard errors of the regression coefficients:\",model.bse)"
   ]
  },
  {
   "cell_type": "markdown",
   "id": "fd9aea61",
   "metadata": {},
   "source": [
    "The bse attribute in the context of a regression model fitted using statsmodels, such as with OLS, stands for \"beta standard errors.\" It provides the standard errors of the estimated coefficients (also called beta coefficients) in the regression model."
   ]
  },
  {
   "cell_type": "code",
   "execution_count": 11,
   "id": "c03124d2",
   "metadata": {},
   "outputs": [
    {
     "name": "stdout",
     "output_type": "stream",
     "text": [
      "const       -0.036881\n",
      "TEMP         0.000049\n",
      "SOAK-TIME    0.000651\n",
      "SOAKPCT     -0.034069\n",
      "DIFFTIME     0.013299\n",
      "DIFFPCT      0.004897\n",
      "dtype: float64\n"
     ]
    }
   ],
   "source": [
    "#model.params contains the estimated coefficients from the regression.\n",
    "print(model.params)"
   ]
  },
  {
   "cell_type": "markdown",
   "id": "5a234cb4",
   "metadata": {},
   "source": [
    "E)"
   ]
  },
  {
   "cell_type": "code",
   "execution_count": 12,
   "id": "5755f472",
   "metadata": {},
   "outputs": [
    {
     "name": "stdout",
     "output_type": "stream",
     "text": [
      "const       -0.256714\n",
      "TEMP         0.688779\n",
      "SOAK-TIME    1.600721\n",
      "SOAKPCT     -0.866562\n",
      "DIFFTIME     5.049114\n",
      "DIFFPCT      0.311528\n",
      "dtype: float64\n",
      "const        0.799420\n",
      "TEMP         0.497063\n",
      "SOAK-TIME    0.121521\n",
      "SOAKPCT      0.394109\n",
      "DIFFTIME     0.000030\n",
      "DIFFPCT      0.757883\n",
      "dtype: float64\n"
     ]
    }
   ],
   "source": [
    "print(model.tvalues)\n",
    "print(model.pvalues)"
   ]
  },
  {
   "cell_type": "markdown",
   "id": "2c2e9f59",
   "metadata": {},
   "source": [
    "### f) Plot residuals and comment on model adequacy. "
   ]
  },
  {
   "cell_type": "code",
   "execution_count": 29,
   "id": "96287043",
   "metadata": {},
   "outputs": [
    {
     "data": {
      "image/png": "[encoded data removed]",
      "text/plain": [
       "<Figure size 640x480 with 1 Axes>"
      ]
     },
     "metadata": {},
     "output_type": "display_data"
    }
   ],
   "source": [
    "#residuals\n",
    "residuals = model.resid\n",
    "#fitted_values\n",
    "fitted_values=model.resid\n",
    "\n",
    "# Plot the residuals against the fitted values\n",
    "plt.scatter(model.fittedvalues, residuals)\n",
    "plt.xlabel(\"Fitted Values\")\n",
    "plt.ylabel(\"Residuals\")\n",
    "plt.title(\"Residual Plot\")\n",
    "plt.hlines(0, xmin=model.fittedvalues.min(), xmax=model.fittedvalues.max(), colors='r', linestyles='--')\n",
    "plt.show()"
   ]
  },
  {
   "cell_type": "markdown",
   "id": "890dcda7",
   "metadata": {},
   "source": [
    "**1. Random Distribution Around Zero:**\n",
    "The residuals are scattered around the horizontal axis (y=0), which is a positive sign. This suggests that the model does not have a clear pattern of errors and that it generally fits the data well.\n",
    "There are a few points that lie just above or below the horizontal axis, indicating slight variations between the observed and predicted values."
   ]
  },
  {
   "cell_type": "markdown",
   "id": "6e83565d",
   "metadata": {},
   "source": [
    "**2. No Clear Pattern:**\n",
    "There is no obvious systematic pattern in the residuals, such as a funnel shape or curvature. This indicates that the model's assumptions regarding the relationship between the variables, such as linearity, are generally satisfied."
   ]
  },
  {
   "cell_type": "markdown",
   "id": "3ae29e99",
   "metadata": {},
   "source": [
    "**3. Homoscedasticity:**\n",
    "The spread of the residuals appears to be relatively consistent across the range of fitted values, which indicates homoscedasticity. This means the variance of errors is constant, a key assumption for linear regression models.\n"
   ]
  },
  {
   "cell_type": "markdown",
   "id": "02bde4ae",
   "metadata": {},
   "source": [
    "**4. Outliers:**\n",
    "There is one noticeable outlier on the right side of the plot, with a fitted value above 0.045 and a relatively large positive residual. This point may warrant further investigation as it could have a significant impact on the model's performance."
   ]
  },
  {
   "cell_type": "markdown",
   "id": "12ccb0e0",
   "metadata": {},
   "source": [
    "**Overall Model Adequacy:-**The residual plot suggests that the model is generally adequate, as the residuals do not show a clear pattern, and there is no evidence of heteroscedasticity. However, the presence of the outlier could indicate that there might be an issue with the model for certain data points, or it might simply reflect an unusual observation in the data.\n",
    "\n",
    "In conclusion, while the model seems to fit the data reasonably well, you might want to examine the outlier further to determine whether it is an anomaly or if it reveals a potential weakness in the model."
   ]
  },
  {
   "cell_type": "markdown",
   "id": "6dfab80b",
   "metadata": {},
   "source": [
    "### g) Find 95% confidence intervals on the regression coefficients. \n"
   ]
  },
  {
   "cell_type": "code",
   "execution_count": 14,
   "id": "0c9aeaeb",
   "metadata": {},
   "outputs": [
    {
     "name": "stdout",
     "output_type": "stream",
     "text": [
      "                  0         1\n",
      "const     -0.332192  0.258429\n",
      "TEMP      -0.000097  0.000194\n",
      "SOAK-TIME -0.000185  0.001486\n",
      "SOAKPCT   -0.114883  0.046745\n",
      "DIFFTIME   0.007885  0.018713\n",
      "DIFFPCT   -0.027414  0.037208\n"
     ]
    }
   ],
   "source": [
    "conf_int=model.conf_int(alpha=0.05)\n",
    "print(conf_int)"
   ]
  },
  {
   "cell_type": "markdown",
   "id": "1cbd11e8",
   "metadata": {},
   "source": [
    "In the model summary, look for the columns labeled \"[0.025]\" and \"[0.975]\". These columns will contain the lower and upper bounds of the 95% confidence intervals for each regression coefficient."
   ]
  },
  {
   "cell_type": "markdown",
   "id": "ab9cbde0",
   "metadata": {},
   "source": [
    "### h) Find a 95% confidence interval on mean PITCH for TEMP = 1650, SOAK-TIME = 1.00, SOAKPCT = 1.10, DIFFTIME = 1.00, and DIFFPCT = 0.80. "
   ]
  },
  {
   "cell_type": "code",
   "execution_count": 20,
   "id": "68c7bf66",
   "metadata": {},
   "outputs": [],
   "source": [
    "# Create new data point\n",
    "new_data = pd.DataFrame({'const': 1, 'TEMP': 1650, 'SOAK-TIME': 1.00,\n",
    "                         'SOAKPCT': 1.10, 'DIFFTIME': 1.00,'DIFFPCT': 0.80}, index=[0])"
   ]
  },
  {
   "cell_type": "code",
   "execution_count": 21,
   "id": "f9dac694",
   "metadata": {},
   "outputs": [
    {
     "name": "stdout",
     "output_type": "stream",
     "text": [
      "Index(['mean', 'mean_se', 'mean_ci_lower', 'mean_ci_upper', 'obs_ci_lower',\n",
      "       'obs_ci_upper'],\n",
      "      dtype='object')\n"
     ]
    }
   ],
   "source": [
    "# Predict mean PITCH and get the summary frame\n",
    "predicted_pitch = model.get_prediction(new_data)\n",
    "summary = predicted_pitch.summary_frame(alpha=0.05)\n",
    "\n",
    "# Check what columns are available\n",
    "print(summary.columns)\n"
   ]
  },
  {
   "cell_type": "code",
   "execution_count": 22,
   "id": "06f094d8",
   "metadata": {},
   "outputs": [
    {
     "data": {
      "text/html": [
       "<div>\n",
       "<style scoped>\n",
       "    .dataframe tbody tr th:only-of-type {\n",
       "        vertical-align: middle;\n",
       "    }\n",
       "\n",
       "    .dataframe tbody tr th {\n",
       "        vertical-align: top;\n",
       "    }\n",
       "\n",
       "    .dataframe thead th {\n",
       "        text-align: right;\n",
       "    }\n",
       "</style>\n",
       "<table border=\"1\" class=\"dataframe\">\n",
       "  <thead>\n",
       "    <tr style=\"text-align: right;\">\n",
       "      <th></th>\n",
       "      <th>obs_ci_lower</th>\n",
       "      <th>obs_ci_upper</th>\n",
       "    </tr>\n",
       "  </thead>\n",
       "  <tbody>\n",
       "    <tr>\n",
       "      <th>0</th>\n",
       "      <td>0.014477</td>\n",
       "      <td>0.033488</td>\n",
       "    </tr>\n",
       "  </tbody>\n",
       "</table>\n",
       "</div>"
      ],
      "text/plain": [
       "   obs_ci_lower  obs_ci_upper\n",
       "0      0.014477      0.033488"
      ]
     },
     "execution_count": 22,
     "metadata": {},
     "output_type": "execute_result"
    }
   ],
   "source": [
    "# Predict mean PITCH and get confidence interval using the correct column names\n",
    "confidence_interval = summary[['obs_ci_lower', 'obs_ci_upper']]\n",
    "confidence_interval\n",
    "#obs_ci_lower:-The lower bound of the confidence interval for individual observations.\n",
    "#obs_ci_upper:-The Upper bound of the confidence interval for individual observations."
   ]
  },
  {
   "cell_type": "code",
   "execution_count": 23,
   "id": "81507390",
   "metadata": {},
   "outputs": [
    {
     "data": {
      "text/html": [
       "<div>\n",
       "<style scoped>\n",
       "    .dataframe tbody tr th:only-of-type {\n",
       "        vertical-align: middle;\n",
       "    }\n",
       "\n",
       "    .dataframe tbody tr th {\n",
       "        vertical-align: top;\n",
       "    }\n",
       "\n",
       "    .dataframe thead th {\n",
       "        text-align: right;\n",
       "    }\n",
       "</style>\n",
       "<table border=\"1\" class=\"dataframe\">\n",
       "  <thead>\n",
       "    <tr style=\"text-align: right;\">\n",
       "      <th></th>\n",
       "      <th>mean_ci_lower</th>\n",
       "      <th>mean_ci_upper</th>\n",
       "    </tr>\n",
       "  </thead>\n",
       "  <tbody>\n",
       "    <tr>\n",
       "      <th>0</th>\n",
       "      <td>0.021289</td>\n",
       "      <td>0.026676</td>\n",
       "    </tr>\n",
       "  </tbody>\n",
       "</table>\n",
       "</div>"
      ],
      "text/plain": [
       "   mean_ci_lower  mean_ci_upper\n",
       "0       0.021289       0.026676"
      ]
     },
     "execution_count": 23,
     "metadata": {},
     "output_type": "execute_result"
    }
   ],
   "source": [
    "confidence_interval_m = summary[['mean_ci_lower', 'mean_ci_upper']]\n",
    "confidence_interval_m"
   ]
  },
  {
   "cell_type": "code",
   "execution_count": 19,
   "id": "accc50a1",
   "metadata": {},
   "outputs": [
    {
     "name": "stdout",
     "output_type": "stream",
     "text": [
      "Predicted mean PITCH: 0.023982648676248542\n",
      "95% confidence interval:    obs_ci_lower  obs_ci_upper\n",
      "0      0.014477      0.033488\n",
      "95% confidence interval:    mean_ci_lower  mean_ci_upper\n",
      "0       0.021289       0.026676\n"
     ]
    }
   ],
   "source": [
    "print(\"Predicted mean PITCH:\", predicted_pitch.summary_frame()['mean'][0])\n",
    "print(\"95% confidence interval:\", confidence_interval)\n",
    "print(\"95% confidence interval:\", confidence_interval_m)"
   ]
  },
  {
   "cell_type": "markdown",
   "id": "b7dad357",
   "metadata": {},
   "source": [
    "The model predicts that the average PITCH is approximately 0.02398.\n",
    "\n",
    "You can be 95% confident that the true mean PITCH lies between 0.021289 and 0.026676.\n",
    "\n",
    "Individual PITCH observations can vary more widely, typically ranging from 0.0.014477 to 0.033488, reflecting the variability inherent in the data."
   ]
  },
  {
   "cell_type": "markdown",
   "id": "13e94475",
   "metadata": {},
   "source": [
    "### i) Fit a new model to the response PITCH using new regressors 𝑥1 = SOAKTIME × SOAKPCT and 𝑥2 = DIFFTIME × DIFFPCT. \n"
   ]
  },
  {
   "cell_type": "code",
   "execution_count": 36,
   "id": "c73e3b9b",
   "metadata": {},
   "outputs": [
    {
     "data": {
      "text/plain": [
       "Index(['TEMP', 'SOAK-TIME', 'SOAKPCT', 'DIFFTIME', 'DIFFPCT', 'PITCH'], dtype='object')"
      ]
     },
     "execution_count": 36,
     "metadata": {},
     "output_type": "execute_result"
    }
   ],
   "source": [
    "df.columns"
   ]
  },
  {
   "cell_type": "code",
   "execution_count": 24,
   "id": "c55cc12c",
   "metadata": {},
   "outputs": [],
   "source": [
    "#add new regressor\n",
    "df['x1'] = df['SOAK-TIME'] * df['SOAKPCT']\n",
    "df['x2'] = df['DIFFTIME'] * df['DIFFPCT']"
   ]
  },
  {
   "cell_type": "code",
   "execution_count": 25,
   "id": "c401e4bf",
   "metadata": {},
   "outputs": [
    {
     "data": {
      "text/html": [
       "<div>\n",
       "<style scoped>\n",
       "    .dataframe tbody tr th:only-of-type {\n",
       "        vertical-align: middle;\n",
       "    }\n",
       "\n",
       "    .dataframe tbody tr th {\n",
       "        vertical-align: top;\n",
       "    }\n",
       "\n",
       "    .dataframe thead th {\n",
       "        text-align: right;\n",
       "    }\n",
       "</style>\n",
       "<table border=\"1\" class=\"dataframe\">\n",
       "  <thead>\n",
       "    <tr style=\"text-align: right;\">\n",
       "      <th></th>\n",
       "      <th>TEMP</th>\n",
       "      <th>SOAK-TIME</th>\n",
       "      <th>SOAKPCT</th>\n",
       "      <th>DIFFTIME</th>\n",
       "      <th>DIFFPCT</th>\n",
       "      <th>PITCH</th>\n",
       "      <th>x1</th>\n",
       "      <th>x2</th>\n",
       "    </tr>\n",
       "  </thead>\n",
       "  <tbody>\n",
       "    <tr>\n",
       "      <th>0</th>\n",
       "      <td>1650</td>\n",
       "      <td>0.58</td>\n",
       "      <td>1.10</td>\n",
       "      <td>0.25</td>\n",
       "      <td>0.90</td>\n",
       "      <td>0.013</td>\n",
       "      <td>0.638</td>\n",
       "      <td>0.2250</td>\n",
       "    </tr>\n",
       "    <tr>\n",
       "      <th>1</th>\n",
       "      <td>1650</td>\n",
       "      <td>0.66</td>\n",
       "      <td>1.10</td>\n",
       "      <td>0.33</td>\n",
       "      <td>0.90</td>\n",
       "      <td>0.016</td>\n",
       "      <td>0.726</td>\n",
       "      <td>0.2970</td>\n",
       "    </tr>\n",
       "    <tr>\n",
       "      <th>2</th>\n",
       "      <td>1650</td>\n",
       "      <td>0.66</td>\n",
       "      <td>1.10</td>\n",
       "      <td>0.33</td>\n",
       "      <td>0.90</td>\n",
       "      <td>0.015</td>\n",
       "      <td>0.726</td>\n",
       "      <td>0.2970</td>\n",
       "    </tr>\n",
       "    <tr>\n",
       "      <th>3</th>\n",
       "      <td>1650</td>\n",
       "      <td>0.66</td>\n",
       "      <td>1.10</td>\n",
       "      <td>0.33</td>\n",
       "      <td>0.95</td>\n",
       "      <td>0.016</td>\n",
       "      <td>0.726</td>\n",
       "      <td>0.3135</td>\n",
       "    </tr>\n",
       "    <tr>\n",
       "      <th>4</th>\n",
       "      <td>1600</td>\n",
       "      <td>0.66</td>\n",
       "      <td>1.15</td>\n",
       "      <td>0.33</td>\n",
       "      <td>1.00</td>\n",
       "      <td>0.015</td>\n",
       "      <td>0.759</td>\n",
       "      <td>0.3300</td>\n",
       "    </tr>\n",
       "  </tbody>\n",
       "</table>\n",
       "</div>"
      ],
      "text/plain": [
       "   TEMP  SOAK-TIME  SOAKPCT  DIFFTIME  DIFFPCT  PITCH     x1      x2\n",
       "0  1650       0.58     1.10      0.25     0.90  0.013  0.638  0.2250\n",
       "1  1650       0.66     1.10      0.33     0.90  0.016  0.726  0.2970\n",
       "2  1650       0.66     1.10      0.33     0.90  0.015  0.726  0.2970\n",
       "3  1650       0.66     1.10      0.33     0.95  0.016  0.726  0.3135\n",
       "4  1600       0.66     1.15      0.33     1.00  0.015  0.759  0.3300"
      ]
     },
     "execution_count": 25,
     "metadata": {},
     "output_type": "execute_result"
    }
   ],
   "source": [
    "df.head()"
   ]
  },
  {
   "cell_type": "code",
   "execution_count": 26,
   "id": "f4f79209",
   "metadata": {},
   "outputs": [],
   "source": [
    "# Fit the new model with the interaction terms\n",
    "X_new = sm.add_constant(df[['x1', 'x2']])\n",
    "model_new = sm.OLS(df['PITCH'], X_new).fit()"
   ]
  },
  {
   "cell_type": "code",
   "execution_count": 27,
   "id": "ca8b07b3",
   "metadata": {},
   "outputs": [
    {
     "name": "stdout",
     "output_type": "stream",
     "text": [
      "                            OLS Regression Results                            \n",
      "==============================================================================\n",
      "Dep. Variable:                  PITCH   R-squared:                       0.775\n",
      "Model:                            OLS   Adj. R-squared:                  0.760\n",
      "Method:                 Least Squares   F-statistic:                     50.08\n",
      "Date:                Sat, 12 Oct 2024   Prob (F-statistic):           3.92e-10\n",
      "Time:                        21:07:52   Log-Likelihood:                 127.56\n",
      "No. Observations:                  32   AIC:                            -249.1\n",
      "Df Residuals:                      29   BIC:                            -244.7\n",
      "Df Model:                           2                                         \n",
      "Covariance Type:            nonrobust                                         \n",
      "==============================================================================\n",
      "                 coef    std err          t      P>|t|      [0.025      0.975]\n",
      "------------------------------------------------------------------------------\n",
      "const          0.0097      0.002      4.731      0.000       0.005       0.014\n",
      "x1             0.0014      0.000      5.083      0.000       0.001       0.002\n",
      "x2             0.0141      0.003      5.263      0.000       0.009       0.020\n",
      "==============================================================================\n",
      "Omnibus:                       12.240   Durbin-Watson:                   1.904\n",
      "Prob(Omnibus):                  0.002   Jarque-Bera (JB):               16.647\n",
      "Skew:                           0.880   Prob(JB):                     0.000243\n",
      "Kurtosis:                       6.063   Cond. No.                         18.3\n",
      "==============================================================================\n",
      "\n",
      "Notes:\n",
      "[1] Standard Errors assume that the covariance matrix of the errors is correctly specified.\n"
     ]
    }
   ],
   "source": [
    "print(model_new.summary())"
   ]
  },
  {
   "cell_type": "markdown",
   "id": "06251ce8",
   "metadata": {},
   "source": [
    "**R-squared: 0.775:-** This indicates that 77.5% of the variance in the dependent variable (PITCH) is explained by the independent variables x1 and x2. This is a relatively high R-squared value, suggesting that the model has a good fit to the data."
   ]
  },
  {
   "cell_type": "markdown",
   "id": "f37c3632",
   "metadata": {},
   "source": [
    " **F-statistic: 50.08, p-value[Prob (F-statistic): 3.92e-10]:-**\n",
    "The F-statistic tests whether at least one of the regression coefficients is different from zero. The very low p-value (3.92e-10) associated with the F-statistic indicates that the model is statistically significant, meaning at least one of the predictors x1 or x2  is significantly related to the dependent variable PITCH."
   ]
  },
  {
   "cell_type": "markdown",
   "id": "dcb0370c",
   "metadata": {},
   "source": [
    "**Intercept (const): 0.0097:** This is the predicted value of PITCH when both x1 and x2 are zero. While it may or may not have a practical interpretation depending on the context, it is statistically significant (p-value = 0.000), indicating that the intercept is not zero.\n",
    "\n",
    "**x1 Coefficient: 0.0014:** For every one-unit increase in x1,the PITCH is expected to increase by 0.0014 units, holding x2 constant. The associated p-value (0.000) indicates that this effect is statistically significant.\n",
    "\n",
    "**x2 Coefficient: 0.0141 :** For every one-unit increase in x2, the PITCH is expected to increase by 0.0141 units, holding x1 constant. This coefficient is also statistically significant, with a p-value of 0.000."
   ]
  },
  {
   "cell_type": "markdown",
   "id": "d50e145a",
   "metadata": {},
   "source": [
    "### (j) Test the model in part (a) for significance of regression using 𝛼 = 0.05. Also calculate the 𝑡-test for each regressor, and draw conclusions. \n"
   ]
  },
  {
   "cell_type": "code",
   "execution_count": 28,
   "id": "f9c28281",
   "metadata": {},
   "outputs": [],
   "source": [
    "from scipy.stats import f, t"
   ]
  },
  {
   "cell_type": "code",
   "execution_count": null,
   "id": "32cb021e",
   "metadata": {},
   "outputs": [],
   "source": []
  },
  {
   "cell_type": "code",
   "execution_count": 29,
   "id": "a384aa28",
   "metadata": {},
   "outputs": [
    {
     "name": "stdout",
     "output_type": "stream",
     "text": [
      "SSE:- 0.0005113849006296648\n",
      "SSR:- 0.0023660838493703203\n",
      "SST:- 0.0028774687500000003\n"
     ]
    }
   ],
   "source": [
    "# Calculate sums of squares\n",
    "SST = np.sum((df['PITCH'] - np.mean(df['PITCH']))**2)\n",
    "\n",
    "SSR = np.sum((model.fittedvalues - np.mean(df['PITCH']))**2)\n",
    "\n",
    "SSE = np.sum(model.resid**2)\n",
    "print(\"SSE:-\",SSE)\n",
    "print(\"SSR:-\",SSR)\n",
    "print(\"SST:-\",SST)"
   ]
  },
  {
   "cell_type": "code",
   "execution_count": 31,
   "id": "694a3c8c",
   "metadata": {},
   "outputs": [],
   "source": [
    "# Calculate F-statistic\n",
    "k = X.shape[1] - 1  # Number of independent variables\n",
    "n = df.shape[0]\n",
    "F_stat = (SSR / k) / (SSE / (n - k - 1))"
   ]
  },
  {
   "cell_type": "code",
   "execution_count": 32,
   "id": "bffa26c1",
   "metadata": {},
   "outputs": [],
   "source": [
    "# Find p-value for F-statistic\n",
    "p_value_f = f.sf(F_stat, k, n - k - 1)"
   ]
  },
  {
   "cell_type": "code",
   "execution_count": 33,
   "id": "f4570b46",
   "metadata": {},
   "outputs": [],
   "source": [
    "# Calculate t-statistics and p-values\n",
    "t_stats = model.params / model.bse\n",
    "p_values_t = t.sf(np.abs(t_stats), n - k - 1) * 2  # Two-tailed test"
   ]
  },
  {
   "cell_type": "code",
   "execution_count": 38,
   "id": "da02ef1f",
   "metadata": {},
   "outputs": [
    {
     "name": "stdout",
     "output_type": "stream",
     "text": [
      "const:- (p-value = 0.799)\n",
      "TEMP:- (p-value = 0.497)\n",
      "SOAK-TIME:- (p-value = 0.122)\n",
      "SOAKPCT:- (p-value = 0.394)\n",
      "DIFFTIME:- (p-value = 0.000)\n",
      "DIFFPCT:- (p-value = 0.758)\n"
     ]
    }
   ],
   "source": [
    "for regressor, t_stat, p_value in zip(X.columns, t_stats, p_values_t):\n",
    "    print(f\"{regressor}:- (p-value = {p_value:.3f})\")"
   ]
  },
  {
   "cell_type": "code",
   "execution_count": 34,
   "id": "96f2253a",
   "metadata": {},
   "outputs": [
    {
     "name": "stdout",
     "output_type": "stream",
     "text": [
      "F-statistic: 24.0594\n",
      "p-value for F-statistic: 5.445598029916891e-09\n",
      "const: t-statistic = -0.257, p-value = 0.799\n",
      "TEMP: t-statistic = 0.689, p-value = 0.497\n",
      "SOAK-TIME: t-statistic = 1.601, p-value = 0.122\n",
      "SOAKPCT: t-statistic = -0.867, p-value = 0.394\n",
      "DIFFTIME: t-statistic = 5.049, p-value = 0.000\n",
      "DIFFPCT: t-statistic = 0.312, p-value = 0.758\n"
     ]
    }
   ],
   "source": [
    "# Print results\n",
    "print(\"F-statistic:\", round(F_stat,4))\n",
    "print(\"p-value for F-statistic:\",p_value_f)\n",
    "\n",
    "for regressor, t_stat, p_value in zip(X.columns, t_stats, p_values_t):\n",
    "    print(f\"{regressor}: t-statistic = {t_stat:.3f}, p-value = {p_value:.3f}\")"
   ]
  },
  {
   "cell_type": "markdown",
   "id": "e52b23d7",
   "metadata": {},
   "source": [
    "###  k) Estimate 𝜎^2 for the model from part (i), and compare this to the estimate of 𝜎^2 obtained in part (c). Which estimate is smaller? Does this offer any insight regarding which model might be preferable? "
   ]
  },
  {
   "cell_type": "code",
   "execution_count": 40,
   "id": "36ffd326",
   "metadata": {},
   "outputs": [
    {
     "name": "stdout",
     "output_type": "stream",
     "text": [
      "sigma_square_estimate_new:- 2.2278234931106506e-05\n"
     ]
    }
   ],
   "source": [
    "#Part (i)\n",
    "N = len(df)   \n",
    "P = len(model_new.params) \n",
    "\n",
    "SSr=np.sum(model_new.resid**2)\n",
    "\n",
    "sigma_square_estimate_new=SSr/(N-P)\n",
    "print(\"sigma_square_estimate_new:-\",sigma_square_estimate_new)"
   ]
  },
  {
   "cell_type": "code",
   "execution_count": 41,
   "id": "fe4ec6cc",
   "metadata": {},
   "outputs": [
    {
     "name": "stdout",
     "output_type": "stream",
     "text": [
      "sigma_square_estimate:- 1.9668650024217878e-05\n"
     ]
    }
   ],
   "source": [
    "#part (c)\n",
    "n = len(df)   \n",
    "p = len(model.params) \n",
    "\n",
    "SSR=np.sum(model.resid**2)\n",
    "\n",
    "sigma_square_estimate=SSR/(n-p)\n",
    "print(\"sigma_square_estimate:-\",sigma_square_estimate)"
   ]
  },
  {
   "cell_type": "markdown",
   "id": "80ece6bf",
   "metadata": {},
   "source": [
    "Given that the model from part (c) has a smaller **sigma_square_estimate** ,it suggests that this model is likely to be preferable because it captures more of the variance in the data with less unexplained noise. In contrast, the higher \n",
    "**sigma_square_estimate** from part (i) suggests that the residuals in this model are slightly more spread out, indicating a less accurate fit to the data."
   ]
  },
  {
   "cell_type": "markdown",
   "id": "d36e140f",
   "metadata": {},
   "source": [
    "### l) Fit a model to PITCH using regressors 𝑥1 = SOAKTIME × SOAKPCT and 𝑥2 = DIFFTIME × DIFFPCT. Using the model with regressors 𝑥1 and 𝑥2, find a 95% confidence interval on mean PITCH when SOAKTIME = 1.00, SOAKPCT = 1.10, DIFFTIME = 1.00, and DIFFPCT = 0.80. \n"
   ]
  },
  {
   "cell_type": "code",
   "execution_count": 42,
   "id": "28000231",
   "metadata": {},
   "outputs": [],
   "source": [
    "#add new regressor\n",
    "df['x1'] = df['SOAK-TIME'] * df['SOAKPCT']\n",
    "df['x2'] = df['DIFFTIME'] * df['DIFFPCT']"
   ]
  },
  {
   "cell_type": "code",
   "execution_count": 43,
   "id": "fe2ab8e2",
   "metadata": {},
   "outputs": [],
   "source": [
    "X_new = sm.add_constant(df[['x1', 'x2']])\n",
    "model_new = sm.OLS(df['PITCH'], X_new).fit()"
   ]
  },
  {
   "cell_type": "code",
   "execution_count": 44,
   "id": "40c53616",
   "metadata": {},
   "outputs": [
    {
     "data": {
      "text/html": [
       "<div>\n",
       "<style scoped>\n",
       "    .dataframe tbody tr th:only-of-type {\n",
       "        vertical-align: middle;\n",
       "    }\n",
       "\n",
       "    .dataframe tbody tr th {\n",
       "        vertical-align: top;\n",
       "    }\n",
       "\n",
       "    .dataframe thead th {\n",
       "        text-align: right;\n",
       "    }\n",
       "</style>\n",
       "<table border=\"1\" class=\"dataframe\">\n",
       "  <thead>\n",
       "    <tr style=\"text-align: right;\">\n",
       "      <th></th>\n",
       "      <th>TEMP</th>\n",
       "      <th>SOAK-TIME</th>\n",
       "      <th>SOAKPCT</th>\n",
       "      <th>DIFFTIME</th>\n",
       "      <th>DIFFPCT</th>\n",
       "      <th>PITCH</th>\n",
       "      <th>x1</th>\n",
       "      <th>x2</th>\n",
       "    </tr>\n",
       "  </thead>\n",
       "  <tbody>\n",
       "    <tr>\n",
       "      <th>0</th>\n",
       "      <td>1650</td>\n",
       "      <td>0.58</td>\n",
       "      <td>1.10</td>\n",
       "      <td>0.25</td>\n",
       "      <td>0.90</td>\n",
       "      <td>0.013</td>\n",
       "      <td>0.638</td>\n",
       "      <td>0.2250</td>\n",
       "    </tr>\n",
       "    <tr>\n",
       "      <th>1</th>\n",
       "      <td>1650</td>\n",
       "      <td>0.66</td>\n",
       "      <td>1.10</td>\n",
       "      <td>0.33</td>\n",
       "      <td>0.90</td>\n",
       "      <td>0.016</td>\n",
       "      <td>0.726</td>\n",
       "      <td>0.2970</td>\n",
       "    </tr>\n",
       "    <tr>\n",
       "      <th>2</th>\n",
       "      <td>1650</td>\n",
       "      <td>0.66</td>\n",
       "      <td>1.10</td>\n",
       "      <td>0.33</td>\n",
       "      <td>0.90</td>\n",
       "      <td>0.015</td>\n",
       "      <td>0.726</td>\n",
       "      <td>0.2970</td>\n",
       "    </tr>\n",
       "    <tr>\n",
       "      <th>3</th>\n",
       "      <td>1650</td>\n",
       "      <td>0.66</td>\n",
       "      <td>1.10</td>\n",
       "      <td>0.33</td>\n",
       "      <td>0.95</td>\n",
       "      <td>0.016</td>\n",
       "      <td>0.726</td>\n",
       "      <td>0.3135</td>\n",
       "    </tr>\n",
       "    <tr>\n",
       "      <th>4</th>\n",
       "      <td>1600</td>\n",
       "      <td>0.66</td>\n",
       "      <td>1.15</td>\n",
       "      <td>0.33</td>\n",
       "      <td>1.00</td>\n",
       "      <td>0.015</td>\n",
       "      <td>0.759</td>\n",
       "      <td>0.3300</td>\n",
       "    </tr>\n",
       "  </tbody>\n",
       "</table>\n",
       "</div>"
      ],
      "text/plain": [
       "   TEMP  SOAK-TIME  SOAKPCT  DIFFTIME  DIFFPCT  PITCH     x1      x2\n",
       "0  1650       0.58     1.10      0.25     0.90  0.013  0.638  0.2250\n",
       "1  1650       0.66     1.10      0.33     0.90  0.016  0.726  0.2970\n",
       "2  1650       0.66     1.10      0.33     0.90  0.015  0.726  0.2970\n",
       "3  1650       0.66     1.10      0.33     0.95  0.016  0.726  0.3135\n",
       "4  1600       0.66     1.15      0.33     1.00  0.015  0.759  0.3300"
      ]
     },
     "execution_count": 44,
     "metadata": {},
     "output_type": "execute_result"
    }
   ],
   "source": [
    "df.head()"
   ]
  },
  {
   "cell_type": "code",
   "execution_count": 45,
   "id": "9eac71e4",
   "metadata": {},
   "outputs": [],
   "source": [
    "# Create new data point\n",
    "new_dataset= pd.DataFrame({'const': 1, 'x1': 1.00 * 1.10, 'x2': 1.00 * 0.80},index=[0])"
   ]
  },
  {
   "cell_type": "code",
   "execution_count": 46,
   "id": "44322b2c",
   "metadata": {},
   "outputs": [
    {
     "name": "stdout",
     "output_type": "stream",
     "text": [
      "Index(['mean', 'mean_se', 'mean_ci_lower', 'mean_ci_upper', 'obs_ci_lower',\n",
      "       'obs_ci_upper'],\n",
      "      dtype='object')\n"
     ]
    }
   ],
   "source": [
    "# Predict mean PITCH and get the summary frame\n",
    "predicted_pitch1= model_new.get_prediction(new_dataset)\n",
    "summary = predicted_pitch1.summary_frame()\n",
    "\n",
    "# Check what columns are available\n",
    "print(summary.columns)"
   ]
  },
  {
   "cell_type": "code",
   "execution_count": 47,
   "id": "362ae68f",
   "metadata": {},
   "outputs": [
    {
     "data": {
      "text/html": [
       "<div>\n",
       "<style scoped>\n",
       "    .dataframe tbody tr th:only-of-type {\n",
       "        vertical-align: middle;\n",
       "    }\n",
       "\n",
       "    .dataframe tbody tr th {\n",
       "        vertical-align: top;\n",
       "    }\n",
       "\n",
       "    .dataframe thead th {\n",
       "        text-align: right;\n",
       "    }\n",
       "</style>\n",
       "<table border=\"1\" class=\"dataframe\">\n",
       "  <thead>\n",
       "    <tr style=\"text-align: right;\">\n",
       "      <th></th>\n",
       "      <th>obs_ci_lower</th>\n",
       "      <th>obs_ci_upper</th>\n",
       "    </tr>\n",
       "  </thead>\n",
       "  <tbody>\n",
       "    <tr>\n",
       "      <th>0</th>\n",
       "      <td>0.012563</td>\n",
       "      <td>0.032285</td>\n",
       "    </tr>\n",
       "  </tbody>\n",
       "</table>\n",
       "</div>"
      ],
      "text/plain": [
       "   obs_ci_lower  obs_ci_upper\n",
       "0      0.012563      0.032285"
      ]
     },
     "execution_count": 47,
     "metadata": {},
     "output_type": "execute_result"
    }
   ],
   "source": [
    "confidence_interval2 = summary[['obs_ci_lower', 'obs_ci_upper']]\n",
    "confidence_interval2"
   ]
  },
  {
   "cell_type": "code",
   "execution_count": 48,
   "id": "06a18a14",
   "metadata": {},
   "outputs": [
    {
     "data": {
      "text/html": [
       "<div>\n",
       "<style scoped>\n",
       "    .dataframe tbody tr th:only-of-type {\n",
       "        vertical-align: middle;\n",
       "    }\n",
       "\n",
       "    .dataframe tbody tr th {\n",
       "        vertical-align: top;\n",
       "    }\n",
       "\n",
       "    .dataframe thead th {\n",
       "        text-align: right;\n",
       "    }\n",
       "</style>\n",
       "<table border=\"1\" class=\"dataframe\">\n",
       "  <thead>\n",
       "    <tr style=\"text-align: right;\">\n",
       "      <th></th>\n",
       "      <th>mean_ci_lower</th>\n",
       "      <th>mean_ci_upper</th>\n",
       "    </tr>\n",
       "  </thead>\n",
       "  <tbody>\n",
       "    <tr>\n",
       "      <th>0</th>\n",
       "      <td>0.020411</td>\n",
       "      <td>0.024437</td>\n",
       "    </tr>\n",
       "  </tbody>\n",
       "</table>\n",
       "</div>"
      ],
      "text/plain": [
       "   mean_ci_lower  mean_ci_upper\n",
       "0       0.020411       0.024437"
      ]
     },
     "execution_count": 48,
     "metadata": {},
     "output_type": "execute_result"
    }
   ],
   "source": [
    "confidence_interval_m2 = summary[['mean_ci_lower', 'mean_ci_upper']]\n",
    "confidence_interval_m2"
   ]
  },
  {
   "cell_type": "code",
   "execution_count": 49,
   "id": "924c92e2",
   "metadata": {},
   "outputs": [
    {
     "name": "stdout",
     "output_type": "stream",
     "text": [
      "Predicted mean PITCH: 0.023982648676248542\n",
      "95% confidence interval:    obs_ci_lower  obs_ci_upper\n",
      "0      0.012563      0.032285\n",
      "95% confidence interval:    mean_ci_lower  mean_ci_upper\n",
      "0       0.020411       0.024437\n"
     ]
    }
   ],
   "source": [
    "print(\"Predicted mean PITCH:\", predicted_pitch.summary_frame()['mean'][0])\n",
    "print(\"95% confidence interval:\", confidence_interval2)\n",
    "print(\"95% confidence interval:\", confidence_interval_m2)"
   ]
  },
  {
   "cell_type": "markdown",
   "id": "6302efaf",
   "metadata": {},
   "source": [
    "The model predicts that the average PITCH is approximately 0.02398.\n",
    "\n",
    "There is 95% confidence that the true mean PITCH falls between 0.02041 and 0.02444.\n",
    "\n",
    "Individual PITCH values are expected to vary, typically ranging from 0.01256 to 0.03229, which is broader than the confidence interval for the mean due to the inherent variability in individual data points."
   ]
  },
  {
   "cell_type": "markdown",
   "id": "5f846208",
   "metadata": {},
   "source": [
    "### m) Compare the length of this confidence interval with the length of the confidence interval on mean PITCH at the same point from part (h), where an additive model in SOAKTIME, SOAKPCT, DIFFTIME, and DIFFPCT was used. Which confidence interval is shorter? Does this tell you anything about which model is preferable? \n"
   ]
  },
  {
   "cell_type": "code",
   "execution_count": 52,
   "id": "8bf7d04b",
   "metadata": {},
   "outputs": [
    {
     "name": "stdout",
     "output_type": "stream",
     "text": [
      "Length of confidence interval from length of old model: 0    0.005388\n",
      "dtype: float64\n",
      "Length of confidence interval from length of new model: 0    0.004027\n",
      "dtype: float64\n"
     ]
    }
   ],
   "source": [
    "# Compare the lengths of the intervals\n",
    "length_old =confidence_interval_m['mean_ci_upper'] - confidence_interval_m['mean_ci_lower']\n",
    "length_new = confidence_interval_m2['mean_ci_upper'] - confidence_interval_m2['mean_ci_lower']\n",
    "\n",
    "print(\"Length of confidence interval from length of old model:\", length_old)\n",
    "print(\"Length of confidence interval from length of new model:\", length_new)\n"
   ]
  },
  {
   "cell_type": "markdown",
   "id": "686229f4",
   "metadata": {},
   "source": [
    "The new model confidence interval length **(0.004027)** is shorter than that of the old model **(0.005388)** , indicating that the new model provides a more precise estimate of mean PITCH"
   ]
  },
  {
   "cell_type": "markdown",
   "id": "05e85fad",
   "metadata": {},
   "source": [
    "### n) Take a 80:20 hold-out split on the data provided and train the same model using all regressors. \n"
   ]
  },
  {
   "cell_type": "code",
   "execution_count": 53,
   "id": "6f80b70f",
   "metadata": {},
   "outputs": [],
   "source": [
    "from sklearn.model_selection import train_test_split\n",
    "from sklearn.linear_model import LinearRegression\n",
    "from sklearn.metrics import mean_squared_error, r2_score,accuracy_score"
   ]
  },
  {
   "cell_type": "code",
   "execution_count": 54,
   "id": "46b18b27",
   "metadata": {},
   "outputs": [],
   "source": [
    "x=df.drop(columns=['PITCH','x1','x2'])\n",
    "y=df['PITCH']"
   ]
  },
  {
   "cell_type": "code",
   "execution_count": 55,
   "id": "4d79480a",
   "metadata": {},
   "outputs": [],
   "source": [
    "X_train, X_test, y_train, y_test = train_test_split(x,y, test_size=0.2, random_state=42)"
   ]
  },
  {
   "cell_type": "code",
   "execution_count": 76,
   "id": "85e54899",
   "metadata": {},
   "outputs": [
    {
     "data": {
      "text/plain": [
       "(25, 7, 25, 7)"
      ]
     },
     "execution_count": 76,
     "metadata": {},
     "output_type": "execute_result"
    }
   ],
   "source": [
    "len(X_train),len( X_test), len(y_train), len(y_test) "
   ]
  },
  {
   "cell_type": "markdown",
   "id": "fb76fb7f",
   "metadata": {},
   "source": [
    "### o) Calculate accuracy of the model on the testing data based on the split. "
   ]
  },
  {
   "cell_type": "code",
   "execution_count": 56,
   "id": "611d7fd4",
   "metadata": {},
   "outputs": [
    {
     "data": {
      "text/html": [
       "<style>#sk-container-id-1 {\n",
       "  /* Definition of color scheme common for light and dark mode */\n",
       "  --sklearn-color-text: black;\n",
       "  --sklearn-color-line: gray;\n",
       "  /* Definition of color scheme for unfitted estimators */\n",
       "  --sklearn-color-unfitted-level-0: #fff5e6;\n",
       "  --sklearn-color-unfitted-level-1: #f6e4d2;\n",
       "  --sklearn-color-unfitted-level-2: #ffe0b3;\n",
       "  --sklearn-color-unfitted-level-3: chocolate;\n",
       "  /* Definition of color scheme for fitted estimators */\n",
       "  --sklearn-color-fitted-level-0: #f0f8ff;\n",
       "  --sklearn-color-fitted-level-1: #d4ebff;\n",
       "  --sklearn-color-fitted-level-2: #b3dbfd;\n",
       "  --sklearn-color-fitted-level-3: cornflowerblue;\n",
       "\n",
       "  /* Specific color for light theme */\n",
       "  --sklearn-color-text-on-default-background: var(--sg-text-color, var(--theme-code-foreground, var(--jp-content-font-color1, black)));\n",
       "  --sklearn-color-background: var(--sg-background-color, var(--theme-background, var(--jp-layout-color0, white)));\n",
       "  --sklearn-color-border-box: var(--sg-text-color, var(--theme-code-foreground, var(--jp-content-font-color1, black)));\n",
       "  --sklearn-color-icon: #696969;\n",
       "\n",
       "  @media (prefers-color-scheme: dark) {\n",
       "    /* Redefinition of color scheme for dark theme */\n",
       "    --sklearn-color-text-on-default-background: var(--sg-text-color, var(--theme-code-foreground, var(--jp-content-font-color1, white)));\n",
       "    --sklearn-color-background: var(--sg-background-color, var(--theme-background, var(--jp-layout-color0, #111)));\n",
       "    --sklearn-color-border-box: var(--sg-text-color, var(--theme-code-foreground, var(--jp-content-font-color1, white)));\n",
       "    --sklearn-color-icon: #878787;\n",
       "  }\n",
       "}\n",
       "\n",
       "#sk-container-id-1 {\n",
       "  color: var(--sklearn-color-text);\n",
       "}\n",
       "\n",
       "#sk-container-id-1 pre {\n",
       "  padding: 0;\n",
       "}\n",
       "\n",
       "#sk-container-id-1 input.sk-hidden--visually {\n",
       "  border: 0;\n",
       "  clip: rect(1px 1px 1px 1px);\n",
       "  clip: rect(1px, 1px, 1px, 1px);\n",
       "  height: 1px;\n",
       "  margin: -1px;\n",
       "  overflow: hidden;\n",
       "  padding: 0;\n",
       "  position: absolute;\n",
       "  width: 1px;\n",
       "}\n",
       "\n",
       "#sk-container-id-1 div.sk-dashed-wrapped {\n",
       "  border: 1px dashed var(--sklearn-color-line);\n",
       "  margin: 0 0.4em 0.5em 0.4em;\n",
       "  box-sizing: border-box;\n",
       "  padding-bottom: 0.4em;\n",
       "  background-color: var(--sklearn-color-background);\n",
       "}\n",
       "\n",
       "#sk-container-id-1 div.sk-container {\n",
       "  /* jupyter's `normalize.less` sets `[hidden] { display: none; }`\n",
       "     but bootstrap.min.css set `[hidden] { display: none !important; }`\n",
       "     so we also need the `!important` here to be able to override the\n",
       "     default hidden behavior on the sphinx rendered scikit-learn.org.\n",
       "     See: https://github.com/scikit-learn/scikit-learn/issues/21755 */\n",
       "  display: inline-block !important;\n",
       "  position: relative;\n",
       "}\n",
       "\n",
       "#sk-container-id-1 div.sk-text-repr-fallback {\n",
       "  display: none;\n",
       "}\n",
       "\n",
       "div.sk-parallel-item,\n",
       "div.sk-serial,\n",
       "div.sk-item {\n",
       "  /* draw centered vertical line to link estimators */\n",
       "  background-image: linear-gradient(var(--sklearn-color-text-on-default-background), var(--sklearn-color-text-on-default-background));\n",
       "  background-size: 2px 100%;\n",
       "  background-repeat: no-repeat;\n",
       "  background-position: center center;\n",
       "}\n",
       "\n",
       "/* Parallel-specific style estimator block */\n",
       "\n",
       "#sk-container-id-1 div.sk-parallel-item::after {\n",
       "  content: \"\";\n",
       "  width: 100%;\n",
       "  border-bottom: 2px solid var(--sklearn-color-text-on-default-background);\n",
       "  flex-grow: 1;\n",
       "}\n",
       "\n",
       "#sk-container-id-1 div.sk-parallel {\n",
       "  display: flex;\n",
       "  align-items: stretch;\n",
       "  justify-content: center;\n",
       "  background-color: var(--sklearn-color-background);\n",
       "  position: relative;\n",
       "}\n",
       "\n",
       "#sk-container-id-1 div.sk-parallel-item {\n",
       "  display: flex;\n",
       "  flex-direction: column;\n",
       "}\n",
       "\n",
       "#sk-container-id-1 div.sk-parallel-item:first-child::after {\n",
       "  align-self: flex-end;\n",
       "  width: 50%;\n",
       "}\n",
       "\n",
       "#sk-container-id-1 div.sk-parallel-item:last-child::after {\n",
       "  align-self: flex-start;\n",
       "  width: 50%;\n",
       "}\n",
       "\n",
       "#sk-container-id-1 div.sk-parallel-item:only-child::after {\n",
       "  width: 0;\n",
       "}\n",
       "\n",
       "/* Serial-specific style estimator block */\n",
       "\n",
       "#sk-container-id-1 div.sk-serial {\n",
       "  display: flex;\n",
       "  flex-direction: column;\n",
       "  align-items: center;\n",
       "  background-color: var(--sklearn-color-background);\n",
       "  padding-right: 1em;\n",
       "  padding-left: 1em;\n",
       "}\n",
       "\n",
       "\n",
       "/* Toggleable style: style used for estimator/Pipeline/ColumnTransformer box that is\n",
       "clickable and can be expanded/collapsed.\n",
       "- Pipeline and ColumnTransformer use this feature and define the default style\n",
       "- Estimators will overwrite some part of the style using the `sk-estimator` class\n",
       "*/\n",
       "\n",
       "/* Pipeline and ColumnTransformer style (default) */\n",
       "\n",
       "#sk-container-id-1 div.sk-toggleable {\n",
       "  /* Default theme specific background. It is overwritten whether we have a\n",
       "  specific estimator or a Pipeline/ColumnTransformer */\n",
       "  background-color: var(--sklearn-color-background);\n",
       "}\n",
       "\n",
       "/* Toggleable label */\n",
       "#sk-container-id-1 label.sk-toggleable__label {\n",
       "  cursor: pointer;\n",
       "  display: block;\n",
       "  width: 100%;\n",
       "  margin-bottom: 0;\n",
       "  padding: 0.5em;\n",
       "  box-sizing: border-box;\n",
       "  text-align: center;\n",
       "}\n",
       "\n",
       "#sk-container-id-1 label.sk-toggleable__label-arrow:before {\n",
       "  /* Arrow on the left of the label */\n",
       "  content: \"▸\";\n",
       "  float: left;\n",
       "  margin-right: 0.25em;\n",
       "  color: var(--sklearn-color-icon);\n",
       "}\n",
       "\n",
       "#sk-container-id-1 label.sk-toggleable__label-arrow:hover:before {\n",
       "  color: var(--sklearn-color-text);\n",
       "}\n",
       "\n",
       "/* Toggleable content - dropdown */\n",
       "\n",
       "#sk-container-id-1 div.sk-toggleable__content {\n",
       "  max-height: 0;\n",
       "  max-width: 0;\n",
       "  overflow: hidden;\n",
       "  text-align: left;\n",
       "  /* unfitted */\n",
       "  background-color: var(--sklearn-color-unfitted-level-0);\n",
       "}\n",
       "\n",
       "#sk-container-id-1 div.sk-toggleable__content.fitted {\n",
       "  /* fitted */\n",
       "  background-color: var(--sklearn-color-fitted-level-0);\n",
       "}\n",
       "\n",
       "#sk-container-id-1 div.sk-toggleable__content pre {\n",
       "  margin: 0.2em;\n",
       "  border-radius: 0.25em;\n",
       "  color: var(--sklearn-color-text);\n",
       "  /* unfitted */\n",
       "  background-color: var(--sklearn-color-unfitted-level-0);\n",
       "}\n",
       "\n",
       "#sk-container-id-1 div.sk-toggleable__content.fitted pre {\n",
       "  /* unfitted */\n",
       "  background-color: var(--sklearn-color-fitted-level-0);\n",
       "}\n",
       "\n",
       "#sk-container-id-1 input.sk-toggleable__control:checked~div.sk-toggleable__content {\n",
       "  /* Expand drop-down */\n",
       "  max-height: 200px;\n",
       "  max-width: 100%;\n",
       "  overflow: auto;\n",
       "}\n",
       "\n",
       "#sk-container-id-1 input.sk-toggleable__control:checked~label.sk-toggleable__label-arrow:before {\n",
       "  content: \"▾\";\n",
       "}\n",
       "\n",
       "/* Pipeline/ColumnTransformer-specific style */\n",
       "\n",
       "#sk-container-id-1 div.sk-label input.sk-toggleable__control:checked~label.sk-toggleable__label {\n",
       "  color: var(--sklearn-color-text);\n",
       "  background-color: var(--sklearn-color-unfitted-level-2);\n",
       "}\n",
       "\n",
       "#sk-container-id-1 div.sk-label.fitted input.sk-toggleable__control:checked~label.sk-toggleable__label {\n",
       "  background-color: var(--sklearn-color-fitted-level-2);\n",
       "}\n",
       "\n",
       "/* Estimator-specific style */\n",
       "\n",
       "/* Colorize estimator box */\n",
       "#sk-container-id-1 div.sk-estimator input.sk-toggleable__control:checked~label.sk-toggleable__label {\n",
       "  /* unfitted */\n",
       "  background-color: var(--sklearn-color-unfitted-level-2);\n",
       "}\n",
       "\n",
       "#sk-container-id-1 div.sk-estimator.fitted input.sk-toggleable__control:checked~label.sk-toggleable__label {\n",
       "  /* fitted */\n",
       "  background-color: var(--sklearn-color-fitted-level-2);\n",
       "}\n",
       "\n",
       "#sk-container-id-1 div.sk-label label.sk-toggleable__label,\n",
       "#sk-container-id-1 div.sk-label label {\n",
       "  /* The background is the default theme color */\n",
       "  color: var(--sklearn-color-text-on-default-background);\n",
       "}\n",
       "\n",
       "/* On hover, darken the color of the background */\n",
       "#sk-container-id-1 div.sk-label:hover label.sk-toggleable__label {\n",
       "  color: var(--sklearn-color-text);\n",
       "  background-color: var(--sklearn-color-unfitted-level-2);\n",
       "}\n",
       "\n",
       "/* Label box, darken color on hover, fitted */\n",
       "#sk-container-id-1 div.sk-label.fitted:hover label.sk-toggleable__label.fitted {\n",
       "  color: var(--sklearn-color-text);\n",
       "  background-color: var(--sklearn-color-fitted-level-2);\n",
       "}\n",
       "\n",
       "/* Estimator label */\n",
       "\n",
       "#sk-container-id-1 div.sk-label label {\n",
       "  font-family: monospace;\n",
       "  font-weight: bold;\n",
       "  display: inline-block;\n",
       "  line-height: 1.2em;\n",
       "}\n",
       "\n",
       "#sk-container-id-1 div.sk-label-container {\n",
       "  text-align: center;\n",
       "}\n",
       "\n",
       "/* Estimator-specific */\n",
       "#sk-container-id-1 div.sk-estimator {\n",
       "  font-family: monospace;\n",
       "  border: 1px dotted var(--sklearn-color-border-box);\n",
       "  border-radius: 0.25em;\n",
       "  box-sizing: border-box;\n",
       "  margin-bottom: 0.5em;\n",
       "  /* unfitted */\n",
       "  background-color: var(--sklearn-color-unfitted-level-0);\n",
       "}\n",
       "\n",
       "#sk-container-id-1 div.sk-estimator.fitted {\n",
       "  /* fitted */\n",
       "  background-color: var(--sklearn-color-fitted-level-0);\n",
       "}\n",
       "\n",
       "/* on hover */\n",
       "#sk-container-id-1 div.sk-estimator:hover {\n",
       "  /* unfitted */\n",
       "  background-color: var(--sklearn-color-unfitted-level-2);\n",
       "}\n",
       "\n",
       "#sk-container-id-1 div.sk-estimator.fitted:hover {\n",
       "  /* fitted */\n",
       "  background-color: var(--sklearn-color-fitted-level-2);\n",
       "}\n",
       "\n",
       "/* Specification for estimator info (e.g. \"i\" and \"?\") */\n",
       "\n",
       "/* Common style for \"i\" and \"?\" */\n",
       "\n",
       ".sk-estimator-doc-link,\n",
       "a:link.sk-estimator-doc-link,\n",
       "a:visited.sk-estimator-doc-link {\n",
       "  float: right;\n",
       "  font-size: smaller;\n",
       "  line-height: 1em;\n",
       "  font-family: monospace;\n",
       "  background-color: var(--sklearn-color-background);\n",
       "  border-radius: 1em;\n",
       "  height: 1em;\n",
       "  width: 1em;\n",
       "  text-decoration: none !important;\n",
       "  margin-left: 1ex;\n",
       "  /* unfitted */\n",
       "  border: var(--sklearn-color-unfitted-level-1) 1pt solid;\n",
       "  color: var(--sklearn-color-unfitted-level-1);\n",
       "}\n",
       "\n",
       ".sk-estimator-doc-link.fitted,\n",
       "a:link.sk-estimator-doc-link.fitted,\n",
       "a:visited.sk-estimator-doc-link.fitted {\n",
       "  /* fitted */\n",
       "  border: var(--sklearn-color-fitted-level-1) 1pt solid;\n",
       "  color: var(--sklearn-color-fitted-level-1);\n",
       "}\n",
       "\n",
       "/* On hover */\n",
       "div.sk-estimator:hover .sk-estimator-doc-link:hover,\n",
       ".sk-estimator-doc-link:hover,\n",
       "div.sk-label-container:hover .sk-estimator-doc-link:hover,\n",
       ".sk-estimator-doc-link:hover {\n",
       "  /* unfitted */\n",
       "  background-color: var(--sklearn-color-unfitted-level-3);\n",
       "  color: var(--sklearn-color-background);\n",
       "  text-decoration: none;\n",
       "}\n",
       "\n",
       "div.sk-estimator.fitted:hover .sk-estimator-doc-link.fitted:hover,\n",
       ".sk-estimator-doc-link.fitted:hover,\n",
       "div.sk-label-container:hover .sk-estimator-doc-link.fitted:hover,\n",
       ".sk-estimator-doc-link.fitted:hover {\n",
       "  /* fitted */\n",
       "  background-color: var(--sklearn-color-fitted-level-3);\n",
       "  color: var(--sklearn-color-background);\n",
       "  text-decoration: none;\n",
       "}\n",
       "\n",
       "/* Span, style for the box shown on hovering the info icon */\n",
       ".sk-estimator-doc-link span {\n",
       "  display: none;\n",
       "  z-index: 9999;\n",
       "  position: relative;\n",
       "  font-weight: normal;\n",
       "  right: .2ex;\n",
       "  padding: .5ex;\n",
       "  margin: .5ex;\n",
       "  width: min-content;\n",
       "  min-width: 20ex;\n",
       "  max-width: 50ex;\n",
       "  color: var(--sklearn-color-text);\n",
       "  box-shadow: 2pt 2pt 4pt #999;\n",
       "  /* unfitted */\n",
       "  background: var(--sklearn-color-unfitted-level-0);\n",
       "  border: .5pt solid var(--sklearn-color-unfitted-level-3);\n",
       "}\n",
       "\n",
       ".sk-estimator-doc-link.fitted span {\n",
       "  /* fitted */\n",
       "  background: var(--sklearn-color-fitted-level-0);\n",
       "  border: var(--sklearn-color-fitted-level-3);\n",
       "}\n",
       "\n",
       ".sk-estimator-doc-link:hover span {\n",
       "  display: block;\n",
       "}\n",
       "\n",
       "/* \"?\"-specific style due to the `<a>` HTML tag */\n",
       "\n",
       "#sk-container-id-1 a.estimator_doc_link {\n",
       "  float: right;\n",
       "  font-size: 1rem;\n",
       "  line-height: 1em;\n",
       "  font-family: monospace;\n",
       "  background-color: var(--sklearn-color-background);\n",
       "  border-radius: 1rem;\n",
       "  height: 1rem;\n",
       "  width: 1rem;\n",
       "  text-decoration: none;\n",
       "  /* unfitted */\n",
       "  color: var(--sklearn-color-unfitted-level-1);\n",
       "  border: var(--sklearn-color-unfitted-level-1) 1pt solid;\n",
       "}\n",
       "\n",
       "#sk-container-id-1 a.estimator_doc_link.fitted {\n",
       "  /* fitted */\n",
       "  border: var(--sklearn-color-fitted-level-1) 1pt solid;\n",
       "  color: var(--sklearn-color-fitted-level-1);\n",
       "}\n",
       "\n",
       "/* On hover */\n",
       "#sk-container-id-1 a.estimator_doc_link:hover {\n",
       "  /* unfitted */\n",
       "  background-color: var(--sklearn-color-unfitted-level-3);\n",
       "  color: var(--sklearn-color-background);\n",
       "  text-decoration: none;\n",
       "}\n",
       "\n",
       "#sk-container-id-1 a.estimator_doc_link.fitted:hover {\n",
       "  /* fitted */\n",
       "  background-color: var(--sklearn-color-fitted-level-3);\n",
       "}\n",
       "</style><div id=\"sk-container-id-1\" class=\"sk-top-container\"><div class=\"sk-text-repr-fallback\"><pre>LinearRegression()</pre><b>In a Jupyter environment, please rerun this cell to show the HTML representation or trust the notebook. <br />On GitHub, the HTML representation is unable to render, please try loading this page with nbviewer.org.</b></div><div class=\"sk-container\" hidden><div class=\"sk-item\"><div class=\"sk-estimator fitted sk-toggleable\"><input class=\"sk-toggleable__control sk-hidden--visually\" id=\"sk-estimator-id-1\" type=\"checkbox\" checked><label for=\"sk-estimator-id-1\" class=\"sk-toggleable__label fitted sk-toggleable__label-arrow fitted\">&nbsp;&nbsp;LinearRegression<a class=\"sk-estimator-doc-link fitted\" rel=\"noreferrer\" target=\"_blank\" href=\"https://scikit-learn.org/1.5/modules/generated/sklearn.linear_model.LinearRegression.html\">?<span>Documentation for LinearRegression</span></a><span class=\"sk-estimator-doc-link fitted\">i<span>Fitted</span></span></label><div class=\"sk-toggleable__content fitted\"><pre>LinearRegression()</pre></div> </div></div></div></div>"
      ],
      "text/plain": [
       "LinearRegression()"
      ]
     },
     "execution_count": 56,
     "metadata": {},
     "output_type": "execute_result"
    }
   ],
   "source": [
    "model = LinearRegression()\n",
    "model.fit(X_train, y_train)"
   ]
  },
  {
   "cell_type": "code",
   "execution_count": 57,
   "id": "0c7f9464",
   "metadata": {},
   "outputs": [],
   "source": [
    "# Make predictions\n",
    "y_pred = model.predict(X_test)"
   ]
  },
  {
   "cell_type": "code",
   "execution_count": 87,
   "id": "11d317c3",
   "metadata": {},
   "outputs": [
    {
     "name": "stdout",
     "output_type": "stream",
     "text": [
      "Mean Squared Error: 5.8039166709664226e-05\n",
      "R-squared: 0.6236210734815316\n"
     ]
    }
   ],
   "source": [
    "mse = mean_squared_error(y_test, y_pred)\n",
    "r2 = r2_score(y_test, y_pred)\n",
    "print(f\"Mean Squared Error: {mse}\")\n",
    "print(f\"R-squared: {r2}\")"
   ]
  },
  {
   "cell_type": "code",
   "execution_count": null,
   "id": "e1fac9c4",
   "metadata": {},
   "outputs": [],
   "source": []
  },
  {
   "cell_type": "code",
   "execution_count": null,
   "id": "aa28525b",
   "metadata": {},
   "outputs": [],
   "source": []
  },
  {
   "cell_type": "code",
   "execution_count": null,
   "id": "0a505b0b",
   "metadata": {},
   "outputs": [],
   "source": []
  },
  {
   "cell_type": "code",
   "execution_count": null,
   "id": "ad39fbf6",
   "metadata": {},
   "outputs": [],
   "source": []
  }
 ],
 "metadata": {
  "kernelspec": {
   "display_name": "Python 3 (ipykernel)",
   "language": "python",
   "name": "python3"
  },
  "language_info": {
   "codemirror_mode": {
    "name": "ipython",
    "version": 3
   },
   "file_extension": ".py",
   "mimetype": "text/x-python",
   "name": "python",
   "nbconvert_exporter": "python",
   "pygments_lexer": "ipython3",
   "version": "3.9.13"
  }
 },
 "nbformat": 4,
 "nbformat_minor": 5
}
